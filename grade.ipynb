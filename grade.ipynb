{
  "nbformat": 4,
  "nbformat_minor": 0,
  "metadata": {
    "colab": {
      "name": "grade.ipynb",
      "provenance": [],
      "authorship_tag": "ABX9TyPCus3N+J5oPWhb3TwBQHJw"
    },
    "kernelspec": {
      "name": "python3",
      "display_name": "Python 3"
    }
  },
  "cells": [
    {
      "cell_type": "code",
      "metadata": {
        "id": "jJBgyRAbbTmU",
        "colab_type": "code",
        "outputId": "72677a9d-2bc6-40d0-db6d-52b4356e0f2f",
        "colab": {
          "base_uri": "https://localhost:8080/",
          "height": 122
        }
      },
      "source": [
        "import pandas as pd\n",
        "\n",
        "from google.colab import drive\n",
        "drive.mount('/content/gdrive')"
      ],
      "execution_count": 0,
      "outputs": [
        {
          "output_type": "stream",
          "text": [
            "Go to this URL in a browser: https://accounts.google.com/o/oauth2/auth?client_id=947318989803-6bn6qk8qdgf4n4g3pfee6491hc0brc4i.apps.googleusercontent.com&redirect_uri=urn%3aietf%3awg%3aoauth%3a2.0%3aoob&response_type=code&scope=email%20https%3a%2f%2fwww.googleapis.com%2fauth%2fdocs.test%20https%3a%2f%2fwww.googleapis.com%2fauth%2fdrive%20https%3a%2f%2fwww.googleapis.com%2fauth%2fdrive.photos.readonly%20https%3a%2f%2fwww.googleapis.com%2fauth%2fpeopleapi.readonly\n",
            "\n",
            "Enter your authorization code:\n",
            "··········\n",
            "Mounted at /content/gdrive\n"
          ],
          "name": "stdout"
        }
      ]
    },
    {
      "cell_type": "code",
      "metadata": {
        "id": "lWq8VZKnUxa7",
        "colab_type": "code",
        "outputId": "522fe954-9a35-4224-c4cc-8fe54c29e667",
        "colab": {
          "base_uri": "https://localhost:8080/",
          "height": 71
        }
      },
      "source": [
        "import numpy as np\n",
        "import pandas as pd\n",
        "import matplotlib.pyplot as plt\n",
        "import seaborn as sns\n",
        "from sklearn.model_selection import train_test_split\n",
        "from sklearn.linear_model import LogisticRegression\n",
        "from sklearn import metrics\n",
        "#%matplotlib inline\n",
        "import warnings\n",
        "warnings.filterwarnings('ignore')\n",
        "from sklearn.tree import DecisionTreeClassifier\n",
        "\n",
        "pd.set_option('display.max_rows', None)\n",
        "studentDataset = pd.read_csv(\"gdrive/My Drive/Colab Notebooks/student_grade/FinalMarks.csv\")\n",
        "X = studentDataset[['Irregular','Percentage_of_Attendence Marks','Did_Appeared_In_All_The_Class_Test','Percentage_of_Class_Test_Marks','Percentage_of_Mid_Marks','Submitted_Assignments_On_Time','Perfomed_Presentation']]\n",
        "y=studentDataset[['Final_Exam_Grade']]\n",
        "X_train,X_test,y_train,y_test=train_test_split(X,y,test_size=0.26,random_state=0)\n"
      ],
      "execution_count": 0,
      "outputs": [
        {
          "output_type": "stream",
          "text": [
            "/usr/local/lib/python3.6/dist-packages/statsmodels/tools/_testing.py:19: FutureWarning: pandas.util.testing is deprecated. Use the functions in the public API at pandas.testing instead.\n",
            "  import pandas.util.testing as tm\n"
          ],
          "name": "stderr"
        }
      ]
    },
    {
      "cell_type": "code",
      "metadata": {
        "id": "ibYWA1oaVBy5",
        "colab_type": "code",
        "outputId": "d4478374-8759-45a4-af75-99584fdf2c2c",
        "colab": {
          "base_uri": "https://localhost:8080/",
          "height": 1000
        }
      },
      "source": [
        "print(y_test)\n",
        "from sklearn.preprocessing import LabelEncoder\n",
        "### label encode the categorical values and convert them to numbers\n",
        "le = LabelEncoder()\n",
        "le.fit(X_train['Irregular'].astype(str))\n",
        "X_train['Irregular'] = le.transform(X_train['Irregular'].astype(str))\n",
        "X_test['Irregular'] = le.transform(X_test['Irregular'].astype(str))"
      ],
      "execution_count": 0,
      "outputs": [
        {
          "output_type": "stream",
          "text": [
            "     Final_Exam_Grade\n",
            "132                 3\n",
            "309                 2\n",
            "341                 3\n",
            "196                 0\n",
            "246                 2\n",
            "60                  1\n",
            "155                 3\n",
            "261                 3\n",
            "141                 3\n",
            "214                 3\n",
            "37                  1\n",
            "134                 1\n",
            "113                 1\n",
            "348                 2\n",
            "12                  2\n",
            "59                  1\n",
            "293                 3\n",
            "140                 3\n",
            "206                 3\n",
            "199                 1\n",
            "176                 3\n",
            "268                 3\n",
            "124                 1\n",
            "344                 3\n",
            "175                 3\n",
            "313                 1\n",
            "78                  2\n",
            "15                  1\n",
            "286                 1\n",
            "102                 3\n",
            "170                 3\n",
            "303                 3\n",
            "334                 3\n",
            "225                 1\n",
            "65                  3\n",
            "76                  3\n",
            "90                  3\n",
            "173                 3\n",
            "179                 1\n",
            "399                 1\n",
            "100                 3\n",
            "322                 1\n",
            "6                   2\n",
            "1                   1\n",
            "297                 3\n",
            "54                  3\n",
            "374                 2\n",
            "255                 1\n",
            "158                 1\n",
            "233                 3\n",
            "247                 2\n",
            "144                 3\n",
            "294                 2\n",
            "171                 1\n",
            "280                 1\n",
            "318                 2\n",
            "52                  3\n",
            "10                  2\n",
            "26                  0\n",
            "45                  2\n",
            "74                  3\n",
            "272                 1\n",
            "4                   1\n",
            "354                 3\n",
            "191                 2\n",
            "371                 1\n",
            "145                 3\n",
            "5                   3\n",
            "154                 1\n",
            "310                 2\n",
            "7                   1\n",
            "260                 3\n",
            "68                  2\n",
            "20                  2\n",
            "107                 2\n",
            "14                  2\n",
            "363                 3\n",
            "304                 1\n",
            "361                 1\n",
            "329                 2\n",
            "336                 1\n",
            "64                  1\n",
            "55                  1\n",
            "106                 3\n",
            "300                 2\n",
            "229                 1\n",
            "122                 1\n",
            "373                 2\n",
            "395                 1\n",
            "325                 3\n",
            "380                 2\n",
            "253                 1\n",
            "56                  2\n",
            "8                   1\n",
            "190                 0\n",
            "146                 3\n",
            "135                 1\n",
            "390                 2\n",
            "264                 3\n",
            "364                 3\n",
            "250                 3\n",
            "63                  1\n",
            "312                 1\n",
            "159                 3\n"
          ],
          "name": "stdout"
        }
      ]
    },
    {
      "cell_type": "code",
      "metadata": {
        "id": "BcJhbOdDVGHU",
        "colab_type": "code",
        "colab": {}
      },
      "source": [
        "le = LabelEncoder()\n",
        "le.fit(X_train['Did_Appeared_In_All_The_Class_Test'].astype(str))\n",
        "X_train['Did_Appeared_In_All_The_Class_Test'] = le.transform(X_train['Did_Appeared_In_All_The_Class_Test'].astype(str))\n",
        "X_test['Did_Appeared_In_All_The_Class_Test'] = le.transform(X_test['Did_Appeared_In_All_The_Class_Test'].astype(str))"
      ],
      "execution_count": 0,
      "outputs": []
    },
    {
      "cell_type": "code",
      "metadata": {
        "id": "ZlSursiHVUQh",
        "colab_type": "code",
        "colab": {}
      },
      "source": [
        "le = LabelEncoder()\n",
        "le.fit(X_train['Submitted_Assignments_On_Time'].astype(str))\n",
        "X_train['Submitted_Assignments_On_Time'] = le.transform(X_train['Submitted_Assignments_On_Time'].astype(str))\n",
        "X_test['Submitted_Assignments_On_Time'] = le.transform(X_test['Submitted_Assignments_On_Time'].astype(str))"
      ],
      "execution_count": 0,
      "outputs": []
    },
    {
      "cell_type": "code",
      "metadata": {
        "id": "e0EEBt2fVZw5",
        "colab_type": "code",
        "colab": {}
      },
      "source": [
        "le = LabelEncoder()\n",
        "le.fit(X_train['Perfomed_Presentation'].astype(str))\n",
        "X_train['Perfomed_Presentation'] = le.transform(X_train['Perfomed_Presentation'].astype(str))\n",
        "X_test['Perfomed_Presentation'] = le.transform(X_test['Perfomed_Presentation'].astype(str))"
      ],
      "execution_count": 0,
      "outputs": []
    },
    {
      "cell_type": "code",
      "metadata": {
        "id": "cNxsNGpiVdAQ",
        "colab_type": "code",
        "colab": {}
      },
      "source": [
        "##Building the Function for AUC validation\n",
        "from sklearn.preprocessing import LabelBinarizer\n",
        "def multiclass_roc_auc_score(y_test,y_pred,average=\"macro\"):\n",
        "    lb=LabelBinarizer()\n",
        "    lb.fit(y_test)\n",
        "    y_test=lb.transform(y_test)\n",
        "    y_pred=lb.transform(y_pred)\n",
        "    return  metrics.roc_auc_score(y_test,y_pred,average=average)\n",
        "##Building the Function for AUC validation ends here"
      ],
      "execution_count": 0,
      "outputs": []
    },
    {
      "cell_type": "code",
      "metadata": {
        "id": "330ZXh6vVeGi",
        "colab_type": "code",
        "outputId": "eb56a801-3be0-4786-9801-59faea7647a4",
        "colab": {
          "base_uri": "https://localhost:8080/",
          "height": 357
        }
      },
      "source": [
        "print(\"#####################\")\n",
        "logRegression=LogisticRegression()\n",
        "logRegression.fit(X_train,y_train)\n",
        "\n",
        "y_predictionLogistic=logRegression.predict(X_test)\n",
        "\n",
        "print(\"Logistic Regression: \")\n",
        "\n",
        "print(\"Accuracy: \",metrics.accuracy_score(y_test, y_predictionLogistic))\n",
        "\n",
        "aucLog=multiclass_roc_auc_score(y_test,y_predictionLogistic,average=\"macro\")\n",
        "print(\"Are under Curve for Logistic Regression: \", aucLog)\n",
        "print(metrics.confusion_matrix(y_test,y_predictionLogistic))\n",
        "print(\"Report for Logistic: \")\n",
        "print(metrics.classification_report(y_test,y_predictionLogistic))"
      ],
      "execution_count": 0,
      "outputs": [
        {
          "output_type": "stream",
          "text": [
            "#####################\n",
            "Logistic Regression: \n",
            "Accuracy:  0.7307692307692307\n",
            "Are under Curve for Logistic Regression:  0.8031086482267882\n",
            "[[ 2  1  0  0]\n",
            " [ 3 24 10  0]\n",
            " [ 0  3 14  7]\n",
            " [ 0  0  4 36]]\n",
            "Report for Logistic: \n",
            "              precision    recall  f1-score   support\n",
            "\n",
            "           0       0.40      0.67      0.50         3\n",
            "           1       0.86      0.65      0.74        37\n",
            "           2       0.50      0.58      0.54        24\n",
            "           3       0.84      0.90      0.87        40\n",
            "\n",
            "    accuracy                           0.73       104\n",
            "   macro avg       0.65      0.70      0.66       104\n",
            "weighted avg       0.75      0.73      0.74       104\n",
            "\n"
          ],
          "name": "stdout"
        }
      ]
    },
    {
      "cell_type": "code",
      "metadata": {
        "id": "7FNrN04MVjay",
        "colab_type": "code",
        "outputId": "454663c0-1418-4b31-ce6d-6448c3e310ae",
        "colab": {
          "base_uri": "https://localhost:8080/",
          "height": 357
        }
      },
      "source": [
        "print(\"#####################\")\n",
        "from sklearn.svm import LinearSVC\n",
        "SVMClassification=LinearSVC(random_state=0)\n",
        "SVMClassification.fit(X_train,y_train)\n",
        "y_predictionSVM=SVMClassification.predict(X_test)\n",
        "\n",
        "print(\"SVM: \")\n",
        "print(\"Accurcy: \",metrics.accuracy_score(y_test, y_predictionSVM))\n",
        "aucSVM=multiclass_roc_auc_score(y_test,y_predictionSVM,average=\"macro\")\n",
        "print(\"Are under Curve for SVM: \", aucSVM)\n",
        "print(metrics.confusion_matrix(y_test,y_predictionSVM))\n",
        "print(\"Report for SVM: \")\n",
        "print(metrics.classification_report(y_test,y_predictionSVM))\n",
        "\n"
      ],
      "execution_count": 0,
      "outputs": [
        {
          "output_type": "stream",
          "text": [
            "#####################\n",
            "SVM: \n",
            "Accurcy:  0.7596153846153846\n",
            "Are under Curve for SVM:  0.8083264885017647\n",
            "[[ 2  1  0  0]\n",
            " [ 3 29  5  0]\n",
            " [ 0  4 10 10]\n",
            " [ 0  1  1 38]]\n",
            "Report for SVM: \n",
            "              precision    recall  f1-score   support\n",
            "\n",
            "           0       0.40      0.67      0.50         3\n",
            "           1       0.83      0.78      0.81        37\n",
            "           2       0.62      0.42      0.50        24\n",
            "           3       0.79      0.95      0.86        40\n",
            "\n",
            "    accuracy                           0.76       104\n",
            "   macro avg       0.66      0.70      0.67       104\n",
            "weighted avg       0.76      0.76      0.75       104\n",
            "\n"
          ],
          "name": "stdout"
        }
      ]
    },
    {
      "cell_type": "code",
      "metadata": {
        "id": "6olWmTIcVrpx",
        "colab_type": "code",
        "outputId": "e9503d52-444b-4ee1-a935-2726b39c536a",
        "colab": {
          "base_uri": "https://localhost:8080/",
          "height": 374
        }
      },
      "source": [
        "print(\"#####################\")\n",
        "DTClassification=DecisionTreeClassifier(random_state=0)\n",
        "DTClassification.fit(X_train,y_train)\n",
        "y_predictionDT=DTClassification.predict(X_test)\n",
        "\n",
        "print(\"Descision Tree:\")\n",
        "print(\"Accuracy: \",metrics.accuracy_score(y_test, y_predictionDT))\n",
        "aucDT=multiclass_roc_auc_score(y_test,y_predictionDT,average=\"macro\")\n",
        "print(\"Are under Curve for DT: \", aucDT)\n",
        "print(metrics.confusion_matrix(y_test,y_predictionDT))\n",
        "\n",
        "print(\"Decision Tree: \")\n",
        "print(\"Report for Decision Tree: \")\n",
        "print(metrics.classification_report(y_test,y_predictionDT))"
      ],
      "execution_count": 0,
      "outputs": [
        {
          "output_type": "stream",
          "text": [
            "#####################\n",
            "Descision Tree:\n",
            "Accuracy:  0.7596153846153846\n",
            "Are under Curve for DT:  0.8685734078179147\n",
            "[[ 3  0  0  0]\n",
            " [ 4 25  8  0]\n",
            " [ 0  2 19  3]\n",
            " [ 0  1  7 32]]\n",
            "Decision Tree: \n",
            "Report for Decision Tree: \n",
            "              precision    recall  f1-score   support\n",
            "\n",
            "           0       0.43      1.00      0.60         3\n",
            "           1       0.89      0.68      0.77        37\n",
            "           2       0.56      0.79      0.66        24\n",
            "           3       0.91      0.80      0.85        40\n",
            "\n",
            "    accuracy                           0.76       104\n",
            "   macro avg       0.70      0.82      0.72       104\n",
            "weighted avg       0.81      0.76      0.77       104\n",
            "\n"
          ],
          "name": "stdout"
        }
      ]
    },
    {
      "cell_type": "code",
      "metadata": {
        "id": "SeyKnS82V00D",
        "colab_type": "code",
        "outputId": "06ba9123-9877-4812-8b0e-815df034d027",
        "colab": {
          "base_uri": "https://localhost:8080/",
          "height": 357
        }
      },
      "source": [
        "print(\"#####################\")\n",
        "from sklearn.neighbors import KNeighborsClassifier\n",
        "\n",
        "KNNClassification = KNeighborsClassifier(n_neighbors=4)\n",
        "KNNClassification.fit(X_train,y_train)\n",
        "y_predictionKNN=KNNClassification.predict(X_test)\n",
        "\n",
        "print(\"KNN: \")\n",
        "print(\"Accuracy\",metrics.accuracy_score(y_test, y_predictionKNN))\n",
        "aucKNN=multiclass_roc_auc_score(y_test,y_predictionKNN,average=\"macro\")\n",
        "print(\"Are under Curve for KNN: \", aucKNN)\n",
        "print(metrics.confusion_matrix(y_test,y_predictionKNN))\n",
        "\n",
        "print(\"Report for KNN: \")\n",
        "print(metrics.classification_report(y_test,y_predictionKNN))"
      ],
      "execution_count": 0,
      "outputs": [
        {
          "output_type": "stream",
          "text": [
            "#####################\n",
            "KNN: \n",
            "Accuracy 0.7403846153846154\n",
            "Are under Curve for KNN:  0.8529809085468097\n",
            "[[ 3  0  0  0]\n",
            " [ 3 30  4  0]\n",
            " [ 0  5 16  3]\n",
            " [ 0  1 11 28]]\n",
            "Report for KNN: \n",
            "              precision    recall  f1-score   support\n",
            "\n",
            "           0       0.50      1.00      0.67         3\n",
            "           1       0.83      0.81      0.82        37\n",
            "           2       0.52      0.67      0.58        24\n",
            "           3       0.90      0.70      0.79        40\n",
            "\n",
            "    accuracy                           0.74       104\n",
            "   macro avg       0.69      0.79      0.71       104\n",
            "weighted avg       0.78      0.74      0.75       104\n",
            "\n"
          ],
          "name": "stdout"
        }
      ]
    },
    {
      "cell_type": "code",
      "metadata": {
        "id": "aObzIOJaV2iz",
        "colab_type": "code",
        "outputId": "0ee742d8-e22c-43de-cacf-02e34254e5e0",
        "colab": {
          "base_uri": "https://localhost:8080/",
          "height": 357
        }
      },
      "source": [
        "print(\"#####################\")\n",
        "from sklearn.ensemble import AdaBoostClassifier\n",
        "ADABoostClassification=AdaBoostClassifier()\n",
        "ADABoostClassification.fit(X_train,y_train)\n",
        "y_predictionADABoost=ADABoostClassification.predict(X_test)\n",
        "\n",
        "print(\"ADA Boost:\")\n",
        "print(\"Accuracy: \",metrics.accuracy_score(y_test, y_predictionADABoost))\n",
        "aucADA=multiclass_roc_auc_score(y_test,y_predictionADABoost,average=\"macro\")\n",
        "print(\"Are under Curve for ADA: \", aucADA)\n",
        "print(metrics.confusion_matrix(y_test,y_predictionADABoost))\n",
        "\n",
        "print(\"Report for Adaboost: \")\n",
        "print(metrics.classification_report(y_test,y_predictionADABoost))\n"
      ],
      "execution_count": 0,
      "outputs": [
        {
          "output_type": "stream",
          "text": [
            "#####################\n",
            "ADA Boost:\n",
            "Accuracy:  0.7019230769230769\n",
            "Are under Curve for ADA:  0.8285325212602694\n",
            "[[ 3  0  0  0]\n",
            " [ 3 19 14  1]\n",
            " [ 0  1 15  8]\n",
            " [ 0  0  4 36]]\n",
            "Report for Adaboost: \n",
            "              precision    recall  f1-score   support\n",
            "\n",
            "           0       0.50      1.00      0.67         3\n",
            "           1       0.95      0.51      0.67        37\n",
            "           2       0.45      0.62      0.53        24\n",
            "           3       0.80      0.90      0.85        40\n",
            "\n",
            "    accuracy                           0.70       104\n",
            "   macro avg       0.68      0.76      0.68       104\n",
            "weighted avg       0.76      0.70      0.70       104\n",
            "\n"
          ],
          "name": "stdout"
        }
      ]
    },
    {
      "cell_type": "code",
      "metadata": {
        "id": "4LTWwM-XV7Wc",
        "colab_type": "code",
        "outputId": "a85f054b-77f7-4e09-e548-32a11b6bdd89",
        "colab": {
          "base_uri": "https://localhost:8080/",
          "height": 357
        }
      },
      "source": [
        "print(\"#####################\")\n",
        "from sklearn.neural_network import MLPClassifier\n",
        "MLPClassification=MLPClassifier(random_state=0)\n",
        "MLPClassification.fit(X_train,y_train)\n",
        "y_predictionMLP=MLPClassification.predict(X_test)\n",
        "\n",
        "print(\"MLP CLassifier: \")\n",
        "print(\"Accuracy\",metrics.accuracy_score(y_test, y_predictionMLP))\n",
        "aucMLP=multiclass_roc_auc_score(y_test,y_predictionMLP,average=\"macro\")\n",
        "print(\"Are under Curve for MLP: \", aucMLP)\n",
        "print(metrics.confusion_matrix(y_test,y_predictionMLP))\n",
        "\n",
        "print(\"Report for MLP: \")\n",
        "print(metrics.classification_report(y_test,y_predictionMLP))"
      ],
      "execution_count": 0,
      "outputs": [
        {
          "output_type": "stream",
          "text": [
            "#####################\n",
            "MLP CLassifier: \n",
            "Accuracy 0.75\n",
            "Are under Curve for MLP:  0.8141546519642888\n",
            "[[ 2  1  0  0]\n",
            " [ 2 24 10  1]\n",
            " [ 0  2 15  7]\n",
            " [ 0  0  3 37]]\n",
            "Report for MLP: \n",
            "              precision    recall  f1-score   support\n",
            "\n",
            "           0       0.50      0.67      0.57         3\n",
            "           1       0.89      0.65      0.75        37\n",
            "           2       0.54      0.62      0.58        24\n",
            "           3       0.82      0.93      0.87        40\n",
            "\n",
            "    accuracy                           0.75       104\n",
            "   macro avg       0.69      0.72      0.69       104\n",
            "weighted avg       0.77      0.75      0.75       104\n",
            "\n"
          ],
          "name": "stdout"
        }
      ]
    },
    {
      "cell_type": "code",
      "metadata": {
        "id": "eN6-L2lnV_pt",
        "colab_type": "code",
        "outputId": "74e1d472-882d-4d6c-ed63-9c9cb9222d45",
        "colab": {
          "base_uri": "https://localhost:8080/",
          "height": 357
        }
      },
      "source": [
        "print(\"#####################\")\n",
        "from sklearn.tree import ExtraTreeClassifier\n",
        "ExtraTreeClassification=ExtraTreeClassifier(random_state=1)\n",
        "ExtraTreeClassification.fit(X_train,y_train)\n",
        "y_predictionET=ExtraTreeClassification.predict(X_test)\n",
        "\n",
        "print(\"Extra Tree CLassifier: \")\n",
        "print(\"Accuracy\",metrics.accuracy_score(y_test, y_predictionET))\n",
        "aucET=multiclass_roc_auc_score(y_test,y_predictionET,average=\"macro\")\n",
        "print(\"Are under Curve for ET: \", aucET)\n",
        "print(metrics.confusion_matrix(y_test,y_predictionET))\n",
        "\n",
        "print(\"Report for ET: \")\n",
        "print(metrics.classification_report(y_test,y_predictionET))"
      ],
      "execution_count": 0,
      "outputs": [
        {
          "output_type": "stream",
          "text": [
            "#####################\n",
            "Extra Tree CLassifier: \n",
            "Accuracy 0.75\n",
            "Are under Curve for ET:  0.8507961097642641\n",
            "[[ 3  0  0  0]\n",
            " [ 3 29  5  0]\n",
            " [ 1  6 13  4]\n",
            " [ 0  1  6 33]]\n",
            "Report for ET: \n",
            "              precision    recall  f1-score   support\n",
            "\n",
            "           0       0.43      1.00      0.60         3\n",
            "           1       0.81      0.78      0.79        37\n",
            "           2       0.54      0.54      0.54        24\n",
            "           3       0.89      0.82      0.86        40\n",
            "\n",
            "    accuracy                           0.75       104\n",
            "   macro avg       0.67      0.79      0.70       104\n",
            "weighted avg       0.77      0.75      0.75       104\n",
            "\n"
          ],
          "name": "stdout"
        }
      ]
    },
    {
      "cell_type": "code",
      "metadata": {
        "id": "HMqCNJN3WFq7",
        "colab_type": "code",
        "outputId": "60cf459d-879a-4c6d-9cc4-3b39f577ce33",
        "colab": {
          "base_uri": "https://localhost:8080/",
          "height": 374
        }
      },
      "source": [
        "print(\"#####################\")\n",
        "from sklearn.ensemble import VotingClassifier\n",
        "Voting_Classification = VotingClassifier(estimators=[('svm',SVMClassification) ,('lr', logRegression),('knn', KNNClassification),('descit',DTClassification),('ada',ADABoostClassification),('mlp',MLPClassification),('et',ExtraTreeClassification)],weights=[1,1,1,3,1,1,2],flatten_transform=True)\n",
        "Voting_Classification.fit(X_train,y_train)\n",
        "y_predictionVoting=Voting_Classification.predict(X_test)\n",
        "print(\"Voting with SVM,Logistic,Knn,Descision Tree, Adaboost, MLP, Extra Tree:\")\n",
        "print(\"Accuracy: \",metrics.accuracy_score(y_test, y_predictionVoting))\n",
        "\n",
        "print(metrics.confusion_matrix(y_test,y_predictionVoting))\n",
        "\n",
        "aucVoting=multiclass_roc_auc_score(y_test,y_predictionVoting,average=\"macro\")\n",
        "print(\"Are under Curve for Voting: \", aucVoting)\n",
        "\n",
        "print(\"Report for Voting: \")\n",
        "print(metrics.classification_report(y_test,y_predictionVoting))\n",
        "\n",
        "print(\"#####################\")"
      ],
      "execution_count": 0,
      "outputs": [
        {
          "output_type": "stream",
          "text": [
            "#####################\n",
            "Voting with SVM,Logistic,Knn,Descision Tree, Adaboost, MLP, Extra Tree:\n",
            "Accuracy:  0.8173076923076923\n",
            "[[ 3  0  0  0]\n",
            " [ 3 29  5  0]\n",
            " [ 0  2 19  3]\n",
            " [ 0  0  6 34]]\n",
            "Are under Curve for Voting:  0.8976902167355956\n",
            "Report for Voting: \n",
            "              precision    recall  f1-score   support\n",
            "\n",
            "           0       0.50      1.00      0.67         3\n",
            "           1       0.94      0.78      0.85        37\n",
            "           2       0.63      0.79      0.70        24\n",
            "           3       0.92      0.85      0.88        40\n",
            "\n",
            "    accuracy                           0.82       104\n",
            "   macro avg       0.75      0.86      0.78       104\n",
            "weighted avg       0.85      0.82      0.82       104\n",
            "\n",
            "#####################\n"
          ],
          "name": "stdout"
        }
      ]
    }
  ]
}